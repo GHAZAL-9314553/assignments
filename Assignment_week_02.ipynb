{
 "cells": [
  {
   "cell_type": "markdown",
   "metadata": {},
   "source": [
    "# Week 02 Assignment glucose level data\n",
    "\n",
    "\n",
    "Missing data occurs commonly in many data applications. Especially wearable sensor devices encounter measurement errors resulting in missing data. Although pandas can handle missing data, for instance, to exclude missing data in the descriptive analysis, we might decide to reshape our data to improve quality. We might consider excluding certain rows, columns, or decide to impute our data if we take an argumentative approach. This week we will work with sensor data of a semester 01 project. The data is timeseries related but a lot of sensor errors occurred. First, we inspect the quality data. Then we will work with imputation, interpolation, and smoothing techniques to overcome this issue of the error readings. Finaly we plot the data. Visualization is a method to translate data into information. As a data scientist you should be able to choose an appropiate visualizations. \n",
    "\n",
    "\n",
    "Keywords: data loading, data inspection, data exploration, data cleaning, impute data, missing data, timeseries, pandas, visualization, interactive plots, overflow/underflow error\n",
    "\n",
    "More to read\n",
    "- https://fennaf.gitbook.io/bfvm22prog1/\n",
    "- https://towardsdatascience.com/how-to-analyze-blood-glucose-data-with-python-data-science-packages-4f160f9564be\n",
    "\n",
    "\n",
    "More about pandas and bokeh programming\n",
    "- https://pandas.pydata.org/pandas-docs/stable/reference/api/pandas.DataFrame.interpolate.html\n",
    "- https://rubberduckdebugging.com/\n",
    "- https://docs.bokeh.org/en/latest/docs/gallery.html\n",
    "\n",
    "\n",
    "Learning objectives\n",
    "\n",
    "- Further practice numpy / pandas\n",
    "- Read, inspect, clean, and impute JSON data. Handle missing data\n",
    "- Apply different interpolation/smoothing techniques\n",
    "- Recognize overflow/underflow error\n",
    "- Perform visual and statistical analysis for time series data\n",
    "- Maintain development environment \n",
    "- Apply coding standards and FAIR principles\n",
    "\n",
    "\n",
    "Note: you can bring your own sensor data, but for the practical you need some missing data points. \n",
    "\n",
    "By the end of this week the student can:\n",
    "\n",
    "- load a json dataset \n",
    "- typecast the Pandas DataFrame to appropiate data types\n",
    "- inspect the dataset for quality and metadata information\n",
    "- add a column with interpolated data in Pandas DataFrame\n",
    "- perform visual analysis\n",
    "\n",
    "please add your own topics you want to learn here: https://padlet.com/ffeenstra1/69vbvy0l8t32rq55\n",
    "\n",
    "\n",
    "The assignment consists of 6 parts:\n",
    "\n",
    "- [part 1: load the data](#0)\n",
    "     - [Exercise 1.1](#ex-11)\n",
    "- [part 2: prepare for inspection](#1)\n",
    "     - [Exercise 2.1](#ex-21)\n",
    "- [part 3: inspect the data](#2)\n",
    "     - [Exercise 3.1](#ex-31)\n",
    "- [part 4: interpolate the data](#3)\n",
    "     - [Exercise 4.1](#ex-41)\n",
    "- [part 5: visualize the data](#4)\n",
    "     - [Exercise 5.1](#ex-51)\n",
    "- [part 6: Challenge](#5)\n",
    "     - [Exercise 6.1](#ex-61)\n",
    "\n",
    "Part 1 and 5 are mandatory, part 6 is optional (bonus)\n",
    "Mind you that you cannot copy code without referencing the code. If you copy code you need to be able to explain your code verbally and you will not get the full score. \n"
   ]
  },
  {
   "cell_type": "markdown",
   "metadata": {},
   "source": [
    "<a name='0'></a>\n",
    "## Part 1: Load the data\n",
    "\n",
    "Instructions: Load the json datafile `glucose.json` into a pandas dataframe. Check your dataframe with a `.head()` to compare with the expected outcome. \n",
    "\n",
    "Preferably we read the data not with a hard coded data path but using a config file. See https://fennaf.gitbook.io/bfvm22prog1/data-processing/configuration-files/yaml\n",
    "\n",
    "<details>    \n",
    "<summary>\n",
    "    <font size=\"3\" color=\"darkgreen\"><b>Hints</b></font>\n",
    "</summary>\n",
    "<ul><li>json.load() method reads a file, pd.read_json converts it to a Pandas DataFrame</li>\n",
    "    <li>when loading into a Pandas DataFrame use records orientation </li>\n",
    "</ul>\n",
    "</details>\n",
    "\n",
    "<a name='ex-11'></a>\n",
    "### Code your solution"
   ]
  },
  {
   "cell_type": "code",
   "execution_count": 1,
   "metadata": {},
   "outputs": [
    {
     "data": {
      "text/html": [
       "<div>\n",
       "<style scoped>\n",
       "    .dataframe tbody tr th:only-of-type {\n",
       "        vertical-align: middle;\n",
       "    }\n",
       "\n",
       "    .dataframe tbody tr th {\n",
       "        vertical-align: top;\n",
       "    }\n",
       "\n",
       "    .dataframe thead th {\n",
       "        text-align: right;\n",
       "    }\n",
       "</style>\n",
       "<table border=\"1\" class=\"dataframe\">\n",
       "  <thead>\n",
       "    <tr style=\"text-align: right;\">\n",
       "      <th></th>\n",
       "      <th>ID</th>\n",
       "      <th>time</th>\n",
       "      <th>recordtype</th>\n",
       "      <th>glucose</th>\n",
       "    </tr>\n",
       "  </thead>\n",
       "  <tbody>\n",
       "    <tr>\n",
       "      <th>0</th>\n",
       "      <td>2845.0</td>\n",
       "      <td>2019-04-25 00:08</td>\n",
       "      <td>1</td>\n",
       "      <td>109</td>\n",
       "    </tr>\n",
       "    <tr>\n",
       "      <th>1</th>\n",
       "      <td>2850.0</td>\n",
       "      <td>2019-04-25 00:50</td>\n",
       "      <td>1</td>\n",
       "      <td></td>\n",
       "    </tr>\n",
       "    <tr>\n",
       "      <th>2</th>\n",
       "      <td>2877.0</td>\n",
       "      <td>2019-04-25 07:02</td>\n",
       "      <td>1</td>\n",
       "      <td>123</td>\n",
       "    </tr>\n",
       "    <tr>\n",
       "      <th>3</th>\n",
       "      <td>2881.0</td>\n",
       "      <td>2019-04-25 07:34</td>\n",
       "      <td>1</td>\n",
       "      <td>158</td>\n",
       "    </tr>\n",
       "    <tr>\n",
       "      <th>4</th>\n",
       "      <td>2886.0</td>\n",
       "      <td>2019-04-25 08:19</td>\n",
       "      <td>1</td>\n",
       "      <td></td>\n",
       "    </tr>\n",
       "  </tbody>\n",
       "</table>\n",
       "</div>"
      ],
      "text/plain": [
       "       ID              time  recordtype glucose\n",
       "0  2845.0  2019-04-25 00:08           1     109\n",
       "1  2850.0  2019-04-25 00:50           1        \n",
       "2  2877.0  2019-04-25 07:02           1     123\n",
       "3  2881.0  2019-04-25 07:34           1     158\n",
       "4  2886.0  2019-04-25 08:19           1        "
      ]
     },
     "execution_count": 1,
     "metadata": {},
     "output_type": "execute_result"
    }
   ],
   "source": [
    "# CODE YOUR SOLUTION HERE\n",
    "import pandas as pd\n",
    "import yaml\n",
    "import json as js\n",
    "\n",
    "#open config file and find the path of glucosedir file\n",
    "with open('config.yaml', 'r') as conf:\n",
    "     config = yaml.safe_load(conf)\n",
    "path = config['glucosedir'] \n",
    "#open and load and read json file\n",
    "opened = open(path)\n",
    "loaded = js.load(opened)\n",
    "df= pd.read_json(loaded)\n",
    "df.head(5)\n",
    "\n",
    "     \n",
    "\n",
    "   \n",
    "\n",
    "    \n",
    "\n",
    "\n",
    "    \n"
   ]
  },
  {
   "cell_type": "markdown",
   "metadata": {},
   "source": [
    "#### Expected outcome: "
   ]
  },
  {
   "cell_type": "raw",
   "metadata": {},
   "source": [
    "       ID              time  recordtype glucose\n",
    "0  2845.0  2019-04-25 00:08           1     109\n",
    "1  2850.0  2019-04-25 00:50           1        \n",
    "2  2877.0  2019-04-25 07:02           1     123\n",
    "3  2881.0  2019-04-25 07:34           1     158\n",
    "4  2886.0  2019-04-25 08:19           1        "
   ]
  },
  {
   "cell_type": "markdown",
   "metadata": {},
   "source": [
    "<a name='1'></a>\n",
    "## Part 2: Prepare the data\n",
    "\n",
    "Check the datatypes of your dataframe. The `glucose` field should be an integer, the `time` field should have a datetime format. If the datatypes are different you should typecast them to the right format.\n",
    "Make sure that your dataset is sorted by the time column\n",
    "\n",
    "\n",
    "<details>    \n",
    "<summary>\n",
    "    <font size=\"3\" color=\"darkgreen\"><b>Hints</b></font>\n",
    "</summary>\n",
    "<ul><li>use astype() method or pandas.DataFrame.to_datetime() for instance</li>\n",
    "    <li>make sure that the empty spaces are filled with NaN. Use errors='coerce'</li>\n",
    "    <li>set_index(), sort_index() and reset_index() are helpful to sort on index</li>\n",
    "</ul>\n",
    "</details>\n",
    "\n",
    "<a name='ex-21'></a>\n",
    "### Code your solution"
   ]
  },
  {
   "cell_type": "code",
   "execution_count": null,
   "metadata": {},
   "outputs": [],
   "source": [
    "# CODE YOUR SOLUTION HERE\n",
    "from datetime import datetime\n",
    "#change the column type to float and date time and fill space by NaN\n",
    "df['glucose'] = pd.to_numeric(df['glucose'],errors='coerce')\n",
    "df['time'] = pd.to_datetime(df['time'],errors='coerce')\n",
    "df['ID'] = df['ID'].astype(int)\n",
    "#index and sort data set based on time and reset index to add column time again\n",
    "df=df.set_index('time').sort_index().reset_index('time')\n",
    "df.dtypes\n",
    "\n",
    "         \n",
    "\n",
    "    \n",
    "\n",
    "\n",
    "\n",
    "\n",
    "\n"
   ]
  },
  {
   "cell_type": "markdown",
   "metadata": {},
   "source": [
    "#### Expected outcome: "
   ]
  },
  {
   "cell_type": "raw",
   "metadata": {},
   "source": [
    "ID                     int64\n",
    "time          datetime64[ns]\n",
    "recordtype             int64\n",
    "glucose              float64\n",
    "dtype: object"
   ]
  },
  {
   "cell_type": "markdown",
   "metadata": {},
   "source": [
    "<a name='2'></a>\n",
    "## Part 3: Inspect the data\n",
    "\n",
    "Now that we prepared the data we are going to inspect the data to get more familiar with the data. You can answer the questions below but feel free to explore the data further by plotting and or statistics, group by overviews and so on. \n",
    "\n",
    "To be answered at least:\n",
    "- what is the quantity of the data (observations and features)\n",
    "- what is the percentage missing data for glucose?\n",
    "- is there a specific pattern for glucose value and recordtype?\n",
    "- what is the time range?\n",
    "\n",
    "Code the solutions to your answers. Create meaningful overviews or statistics\n",
    "\n",
    "<details>    \n",
    "<summary>\n",
    "    <font size=\"3\" color=\"darkgreen\"><b>Hints</b></font>\n",
    "</summary>\n",
    "<ul><li>In the week 01 assignment some functions were explained to inspect missing values</li>\n",
    "    <li>In the week 01 assignment some functions were explained to groupby value</li>\n",
    "</ul>\n",
    "</details>\n",
    "\n",
    "<a name='ex-31'></a>\n",
    "### Code your solution"
   ]
  },
  {
   "cell_type": "code",
   "execution_count": null,
   "metadata": {},
   "outputs": [],
   "source": [
    "#CODE YOUR SOLUTION HERE\n",
    "#rows are 132 and glucose contains 84 null values.\n",
    "df.info()\n",
    "#percent of missing data = sum(is null of that column data ) divide by len that column data\n",
    "percent_missing = df['glucose'].isnull().sum()  / len(df['glucose'])\n",
    "print(percent_missing) \n",
    "#range of time for min to max by frequency of chosen interval like hours , min,day and...\n",
    "#for example 6 minutes \n",
    "print(pd.date_range(start= df['time'].min(),end=df['time'].max(),freq='6t'))\n",
    "# for finding the pattern between glucose and datatype at first groupe by data glocuse base on recordtype .\n",
    "#if we calculate the sum of it, shows us that forom 136 rows only 52 glocuse ara not null .\n",
    "#82 recordtype:0 --->glucose is null ,54 recordtype:1 that 2 of them glucose has null value and 52 glucose is not null   \n",
    "\n",
    "output = df.groupby('recordtype')['glucose'].count()\n",
    "print(output[1].sum())\n",
    "print(output)\n",
    "print(df.recordtype.value_counts())\n"
   ]
  },
  {
   "cell_type": "markdown",
   "metadata": {},
   "source": [
    "#### Expected outcome percentage missing data\n",
    "0.6176470588235294"
   ]
  },
  {
   "cell_type": "markdown",
   "metadata": {},
   "source": [
    "<a name='3'></a>\n",
    "## Part 4: Interpolate the data\n",
    "\n",
    "A lot of data is missing. Use interpolation to fill the missing values. Create a new column with the interpolated data. Take an argumentative approach. Select an interpolation method that suits the nature of the data and explain your choice. Mind you that the expected outcome of the interpolation values can differ from the example below\n",
    "\n",
    "<details>    \n",
    "<summary>\n",
    "    <font size=\"3\" color=\"darkgreen\"><b>Hints</b></font>\n",
    "</summary>\n",
    "<ul><li>use Pandas.DataFrame.interpolate() method</li>\n",
    "</ul>\n",
    "</details>\n",
    "\n",
    "<a name='ex-41'></a>\n",
    "### Code your solution"
   ]
  },
  {
   "cell_type": "code",
   "execution_count": null,
   "metadata": {},
   "outputs": [],
   "source": [
    "#CODE YOUR SOLUTION HERE\n",
    "# take copy of data because want to have 2 dataset .in one of them I drop id<0 \n",
    "#and the other one I keep the whole ids\n",
    "copy_data =df.copy()\n",
    "#there are a lot of methods for interpolation and fill null dtat in this case linear is best\n",
    "#if we use pad doesnt seem good and if use polynominal the last 2 data remains null by getting df.tail\n",
    "# linear is better \n",
    "df['interpolated_linear']=df['glucose'].interpolate(method='linear')\n",
    "df.head()"
   ]
  },
  {
   "cell_type": "markdown",
   "metadata": {},
   "source": [
    "#### Example outcome"
   ]
  },
  {
   "cell_type": "raw",
   "metadata": {},
   "source": [
    "                 time                   ID  recordtype  glucose  interpolated\n",
    "0 2019-04-25 00:08:00                 2845           1    109.0    109.000000\n",
    "1 2019-04-25 00:14:00 -9223372036854775808           0      NaN    109.466667\n",
    "2 2019-04-25 00:29:00 -9223372036854775808           0      NaN    109.933333\n",
    "3 2019-04-25 00:44:00 -9223372036854775808           0      NaN    110.400000\n",
    "4 2019-04-25 00:50:00                 2850           1      NaN    110.866667"
   ]
  },
  {
   "cell_type": "code",
   "execution_count": null,
   "metadata": {},
   "outputs": [],
   "source": [
    "from bokeh.io import output_notebook\n",
    "from bokeh.plotting import figure,show \n",
    "from bokeh.layouts import gridplot\n",
    "from bokeh.io import output_notebook\n",
    "from bokeh.plotting import ColumnDataSource\n",
    "import matplotlib.pyplot as plt\n",
    "\n",
    "output_notebook()"
   ]
  },
  {
   "cell_type": "code",
   "execution_count": null,
   "metadata": {},
   "outputs": [],
   "source": [
    "#I used this one to drop the negative IDs from data set and interpolate it to make \n",
    "# a graph and compare and analyse when we have negative ids and without  negative ids\n",
    "copy_data.drop(copy_data[copy_data['ID']<0].index)\n",
    "copy_data['interpolated_linear']=copy_data['glucose'].interpolate(method='linear')\n",
    "copy_data = copy_data.drop(df[df['ID']<0].index)\n",
    "copy_data.head()"
   ]
  },
  {
   "cell_type": "code",
   "execution_count": null,
   "metadata": {},
   "outputs": [],
   "source": []
  },
  {
   "cell_type": "code",
   "execution_count": null,
   "metadata": {},
   "outputs": [],
   "source": [
    "\n",
    "def make_plot(title,x, y, color_line,color_scatter,legend_label_line,legend_label_scatter):\n",
    "    p = figure(title=title, background_fill_color=\"#fafafa\")\n",
    "    p.line(x=x , y= y , color = color_line , legend_label = legend_label_line)\n",
    "    p.scatter(x=x,y =y,color= color_scatter, legend_label=legend_label_scatter)\n",
    "    p.xaxis.axis_label = 'time'\n",
    "    p.yaxis.axis_label = 'glucose'\n",
    "    p.grid.grid_line_color=\"yellow\"\n",
    "    return p\n",
    "\n",
    "g=make_plot(\"graph for interpolated_glucose\",df.time,df.interpolated_linear, 'red','black',\"interpolated_line\",\"interpolated_scatter\")\n",
    "e=make_plot(\"graph for origin_glucose\",df.time,df.glucose, 'green','blue',\"origin_line\",\"origin_scatter\")\n",
    "f=make_plot(\"graph for interpolated_glucose when drop negative \",copy_data.time,copy_data.interpolated_linear, 'pink','orange',\"interpolated_line\",\"interpolated_scatter\")\n",
    "show(g)\n",
    "show(e)\n",
    "show(f)"
   ]
  },
  {
   "cell_type": "markdown",
   "metadata": {},
   "source": [
    "<a name='6'></a>\n",
    "## Part 6: Challenge\n",
    "\n",
    "It might even be interesting to introduce a widget in which you can select different methods to interpolate.\n",
    "1. Can you improve the interpolation by choosing an other method?\n",
    "2. Can you add an rolling mean line? \n",
    "2. Can you improve the plot by making it interactive?\n",
    "\n",
    "<a name='ex-61'></a>\n",
    "### Code your solution"
   ]
  },
  {
   "cell_type": "code",
   "execution_count": null,
   "metadata": {},
   "outputs": [],
   "source": [
    "#CODE YOUR SOLUTION HERE\n",
    "\n",
    "from bokeh.sampledata.iris import flowers\n",
    "from bokeh.plotting import show, figure\n",
    "import panel as pn\n",
    "import numpy as np\n",
    "pn.extension()\n",
    "\n",
    "\n",
    "\n",
    "def interpolated_plot(x_axis, interpolated_method): \n",
    "\n",
    "    #Set a title for the plot.\n",
    "    p = figure(title = 'Interpolated glucose values')\n",
    "\n",
    "    #The original data should be plot as a black dot scatter.\n",
    "    p.scatter(x = df.time, y = df.glucose, color = 'black')\n",
    "\n",
    "    #Choose a random color for plotting, because I love colors.\n",
    "    randomcolor=list(np.random.choice(range(0, 255, 20),size=3))\n",
    "\n",
    "    #plo one of interpolated graphs.\n",
    "    p.line(x=df.time, y=df[interpolated_method], color = randomcolor)\n",
    "    \n",
    "    # label the axis.\n",
    "    p.xaxis.axis_label = 'time'\n",
    "    p.yaxis.axis_label = 'Glucose level'\n",
    "    p.grid.grid_line_color=\"lightgray\"\n",
    "\n",
    "\n",
    "\n",
    "\n",
    "    return p\n",
    "\n",
    "\n",
    "# create an interactive user interface object \n",
    "plot = pn.interact(interpolated_plot, x_axis='time', interpolated_method=columns)\n",
    "plot"
   ]
  }
 ],
 "metadata": {
  "kernelspec": {
   "display_name": "Python 3",
   "language": "python",
   "name": "python3"
  },
  "language_info": {
   "codemirror_mode": {
    "name": "ipython",
    "version": 3
   },
   "file_extension": ".py",
   "mimetype": "text/x-python",
   "name": "python",
   "nbconvert_exporter": "python",
   "pygments_lexer": "ipython3",
   "version": "3.10.4 (main, Mar 31 2022, 08:41:55) [GCC 7.5.0]"
  },
  "vscode": {
   "interpreter": {
    "hash": "6b91fa5cffef32cb10787a50fea9666676a7951181e01280b4644cd70c964bf4"
   }
  }
 },
 "nbformat": 4,
 "nbformat_minor": 4
}
